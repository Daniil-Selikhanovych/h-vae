{
 "cells": [
  {
   "cell_type": "markdown",
   "metadata": {
    "id": "CsWMU-AnHJsm"
   },
   "source": [
    "# Hamiltonian Variational Auto-Encoder\n",
    "\n",
    "[Anthony L Caterini, Arnaud Doucet, and Dino Sejdinovic. “Hamiltonian Variational AutoEncoder”](https://arxiv.org/pdf/1805.11328.pdf)\n",
    "\n",
    "[Markov Chain Monte Carlo and Variational Inference:\n",
    "Bridging the Gap](https://arxiv.org/pdf/1805.11328.pdf)"
   ]
  },
  {
   "cell_type": "code",
   "execution_count": 63,
   "metadata": {
    "executionInfo": {
     "elapsed": 729,
     "status": "ok",
     "timestamp": 1603351118849,
     "user": {
      "displayName": "Aleksandr Artemenkov",
      "photoUrl": "",
      "userId": "04068494744884930486"
     },
     "user_tz": -180
    },
    "id": "znHTwZSDHJsn"
   },
   "outputs": [],
   "source": [
    "import torch\n",
    "from torch import nn\n",
    "from torch.optim import Adam\n",
    "import numpy as np\n",
    "from tqdm.notebook import tqdm\n",
    "import math\n",
    "from torchsummary import summary\n",
    "from typing import Callable\n",
    "import os\n",
    "import sys\n",
    "from torchvision.datasets import MNIST, CIFAR10\n",
    "import torchvision.transforms as transforms\n",
    "from torch.utils.data import DataLoader, Subset\n",
    "import matplotlib.pyplot as plt"
   ]
  },
  {
   "cell_type": "code",
   "execution_count": 2,
   "metadata": {
    "executionInfo": {
     "elapsed": 785,
     "status": "ok",
     "timestamp": 1603350124972,
     "user": {
      "displayName": "Aleksandr Artemenkov",
      "photoUrl": "",
      "userId": "04068494744884930486"
     },
     "user_tz": -180
    },
    "id": "bO9g_-qxHJsr"
   },
   "outputs": [],
   "source": [
    "class Prior(nn.Module):\n",
    "    def __init__(self):\n",
    "        \"\"\"\n",
    "        Prior distribution q(*) on R^l \n",
    "        \"\"\"\n",
    "        super().__init__()\n",
    "    \n",
    "    def sample(self) -> torch.Tensor:\n",
    "        \"\"\"\n",
    "        Return batch of samples from the prior,\n",
    "        optionally conditioned on x\n",
    "        \"\"\"\n",
    "        raise NotImplementedError\n",
    "    \n",
    "    def log_prob(self, z: torch.Tensor) -> torch.Tensor:\n",
    "        \"\"\"\n",
    "        Compute log probability of q(z)\n",
    "        \"\"\"\n",
    "        raise NotImplementedError"
   ]
  },
  {
   "cell_type": "code",
   "execution_count": 3,
   "metadata": {
    "executionInfo": {
     "elapsed": 1075,
     "status": "ok",
     "timestamp": 1603350126011,
     "user": {
      "displayName": "Aleksandr Artemenkov",
      "photoUrl": "",
      "userId": "04068494744884930486"
     },
     "user_tz": -180
    },
    "id": "p4SL7zBuHJst"
   },
   "outputs": [],
   "source": [
    "class NormalPrior(Prior):\n",
    "    def __init__(self, loc: torch.Tensor, log_scale: torch.Tensor):\n",
    "        \"\"\"\n",
    "        Prior normal distribution of batch \n",
    "        \"\"\"\n",
    "        super().__init__()\n",
    "        self.dim = loc.shape[-1]\n",
    "        self.loc = loc\n",
    "        self.log_scale = log_scale\n",
    "    \n",
    "    def sample(self) -> torch.Tensor:\n",
    "        \"\"\"\n",
    "        Return batch of samples from the prior,\n",
    "        optionally conditioned on x\n",
    "        \"\"\"\n",
    "        return (\n",
    "            self.loc \n",
    "            + self.log_scale.exp() * self.loc.new_empty(self.loc.shape).normal_()\n",
    "        )\n",
    "        \n",
    "    def log_prob(self, z: torch.Tensor) -> torch.Tensor:\n",
    "        \"\"\"\n",
    "        Compute log probability of q(z)\n",
    "        \"\"\"\n",
    "        return (\n",
    "            - self.log_scale\n",
    "            - 0.5*math.log(2*math.pi)\n",
    "            - 0.5*(z - self.loc)**2/self.log_scale.exp()**2\n",
    "        ).sum()"
   ]
  },
  {
   "cell_type": "code",
   "execution_count": 4,
   "metadata": {
    "executionInfo": {
     "elapsed": 1172,
     "status": "ok",
     "timestamp": 1603350126374,
     "user": {
      "displayName": "Aleksandr Artemenkov",
      "photoUrl": "",
      "userId": "04068494744884930486"
     },
     "user_tz": -180
    },
    "id": "tG5TLxM3HJsw"
   },
   "outputs": [],
   "source": [
    "class EncoderPrior(Prior):\n",
    "    def __init__(self, x: torch.Tensor, encoder: nn.Module):\n",
    "        \"\"\"\n",
    "        Prior distribution q(*) on R^l\n",
    "        \"\"\"\n",
    "        super().__init__()\n",
    "        self.x = x\n",
    "        self.encoder = encoder\n",
    "        \n",
    "        loc, log_scale = self.encoder(x)\n",
    "        self.prior = NormalPrior(loc, log_scale)\n",
    "    \n",
    "    def sample(self) -> torch.Tensor:\n",
    "        \"\"\"\n",
    "        Return batch of samples from the prior,\n",
    "        optionally conditioned on x\n",
    "        \"\"\"\n",
    "        return self.prior.sample()\n",
    "    \n",
    "    def log_prob(self, z: torch.Tensor) -> torch.Tensor:\n",
    "        \"\"\"\n",
    "        Compute log probability of q(z)\n",
    "        \"\"\"\n",
    "        return self.prior.log_prob(z)"
   ]
  },
  {
   "cell_type": "code",
   "execution_count": 5,
   "metadata": {
    "executionInfo": {
     "elapsed": 1026,
     "status": "ok",
     "timestamp": 1603350126375,
     "user": {
      "displayName": "Aleksandr Artemenkov",
      "photoUrl": "",
      "userId": "04068494744884930486"
     },
     "user_tz": -180
    },
    "id": "FXFoid4gHJsy"
   },
   "outputs": [],
   "source": [
    "class Posterior(nn.Module):\n",
    "    def __init__(self):\n",
    "        \"\"\"\n",
    "        Posterior distribution p(x, *) on an arbitrary space \n",
    "        \"\"\"\n",
    "        super().__init__()\n",
    "    \n",
    "    def log_prob(self, z: torch.Tensor) -> torch.Tensor:\n",
    "        \"\"\"\n",
    "        Compute log probability of p(x, z)\n",
    "        \"\"\"\n",
    "        raise NotImplementedError"
   ]
  },
  {
   "cell_type": "code",
   "execution_count": 6,
   "metadata": {
    "executionInfo": {
     "elapsed": 853,
     "status": "ok",
     "timestamp": 1603350126376,
     "user": {
      "displayName": "Aleksandr Artemenkov",
      "photoUrl": "",
      "userId": "04068494744884930486"
     },
     "user_tz": -180
    },
    "id": "71mBZOs-HJs2"
   },
   "outputs": [],
   "source": [
    "class BernoulliPosterior(Posterior):\n",
    "    def __init__(self, x: torch.Tensor):\n",
    "        \"\"\"\n",
    "        Posterior distribution p(x, *) on an arbitrary space \n",
    "        \"\"\"\n",
    "        super().__init__()\n",
    "        self.x = x\n",
    "        self.loss = nn.BCELoss(reduction=\"sum\")\n",
    "    \n",
    "    def log_prob(self, z: torch.Tensor) -> torch.Tensor:\n",
    "        \"\"\"\n",
    "        Compute log probability of p(x, z)\n",
    "        \"\"\"\n",
    "        return -self.loss(z, self.x)"
   ]
  },
  {
   "cell_type": "code",
   "execution_count": 7,
   "metadata": {
    "executionInfo": {
     "elapsed": 1515,
     "status": "ok",
     "timestamp": 1603350127241,
     "user": {
      "displayName": "Aleksandr Artemenkov",
      "photoUrl": "",
      "userId": "04068494744884930486"
     },
     "user_tz": -180
    },
    "id": "4yxbOsJWHJs5"
   },
   "outputs": [],
   "source": [
    "class DecoderPosterior(Posterior):\n",
    "    def __init__(self, x: torch.Tensor, decoder: nn.Module):\n",
    "        \"\"\"\n",
    "        Posterior distribution p(x, *) on an arbitrary space \n",
    "        \"\"\"\n",
    "        super().__init__()\n",
    "        self.x = x\n",
    "        self.decoder = decoder\n",
    "        self.bernoulli = BernoulliPosterior(x)\n",
    "    \n",
    "    def log_prob(self, z: torch.Tensor) -> torch.Tensor:\n",
    "        \"\"\"\n",
    "        Compute log probability of p(x, z):\n",
    "        z ~ N (0, I),\n",
    "        x ~ Bernoulli (x | decoder(z))\n",
    "        \"\"\"\n",
    "        n = z.shape[0]\n",
    "        log_prob_prior = -n/2*math.log(2*math.pi) - 0.5*torch.sum(z**2)\n",
    "        \n",
    "        out = self.decoder(z)\n",
    "        return self.bernoulli.log_prob(out) + log_prob_prior"
   ]
  },
  {
   "cell_type": "code",
   "execution_count": 8,
   "metadata": {
    "executionInfo": {
     "elapsed": 1349,
     "status": "ok",
     "timestamp": 1603350127243,
     "user": {
      "displayName": "Aleksandr Artemenkov",
      "photoUrl": "",
      "userId": "04068494744884930486"
     },
     "user_tz": -180
    },
    "id": "TnLMn_b_HJs8"
   },
   "outputs": [],
   "source": [
    "class HIS(nn.Module):\n",
    "    def __init__(self, dim: int, K: int=15, \n",
    "                 eps_init: float=5e-3, eps_max: float=0.5,\n",
    "                 verbose: bool=False\n",
    "                ):\n",
    "        \"\"\"\n",
    "        Initializes Hamiltonian Importance Sampling\n",
    "        dim -- latent space dimension \n",
    "        K   -- number of MC steps\n",
    "        \"\"\"\n",
    "        super().__init__()\n",
    "        self.K = K\n",
    "        self.dim = dim\n",
    "        self.eps_init = eps_init\n",
    "        self.eps_max = eps_max\n",
    "        self.verbose = verbose\n",
    "        \n",
    "        init_logit_eps = -torch.log(eps_max / eps_init  * torch.ones(dim) - 1)\n",
    "        self.logit_eps = nn.Parameter(init_logit_eps)\n",
    "        self.log_alpha = nn.Parameter(torch.zeros(K))\n",
    "        \n",
    "    def _get_grad(self, x: torch.Tensor, f: Callable) -> torch.Tensor:\n",
    "        y = x.clone().detach().requires_grad_(True) # grad is empty\n",
    "        f(y).backward()\n",
    "        return y.grad.detach()\n",
    "        \n",
    "    def elbo(self, prior: Prior, posterior: Posterior) -> torch.Tensor:\n",
    "        eps = self.eps_max * torch.sigmoid(self.logit_eps)\n",
    "        alphas = self.log_alpha.exp()\n",
    "        log_beta_0_sqrt = self.log_alpha.sum() \n",
    "        beta_0_sqrt = log_beta_0_sqrt.exp()\n",
    "        \n",
    "        z = prior.sample()\n",
    "        rho = z.new_empty(z.shape).normal_()/beta_0_sqrt\n",
    "\n",
    "        rho = torch.zeros_like(z)\n",
    "        log_rho_prior = -self.dim/2\n",
    "        log_q_bar = prior.log_prob(z) + log_rho_prior\n",
    "        \n",
    "        for k in range(self.K):\n",
    "            if self.verbose:\n",
    "                print(f\"[HIS] MC sample {k}\")\n",
    "            # Leap-frog\n",
    "            rho = rho + 0.5*eps * self._get_grad(z, posterior.log_prob) # + as log likelihood, not nll\n",
    "            z = z + eps * rho\n",
    "            rho = rho + 0.5*eps * self._get_grad(z, posterior.log_prob) # + as log likelihood, not nll\n",
    "            \n",
    "            # Tempering\n",
    "            rho = rho * alphas[k] \n",
    "        \n",
    "        log_rho_posterior = -0.5*torch.sum(rho**2)\n",
    "        log_p_bar = posterior.log_prob(z) + log_rho_posterior\n",
    "        \n",
    "        return log_p_bar - log_q_bar"
   ]
  },
  {
   "cell_type": "code",
   "execution_count": 9,
   "metadata": {
    "executionInfo": {
     "elapsed": 1379,
     "status": "ok",
     "timestamp": 1603350127706,
     "user": {
      "displayName": "Aleksandr Artemenkov",
      "photoUrl": "",
      "userId": "04068494744884930486"
     },
     "user_tz": -180
    },
    "id": "1uvQWiILHJs_"
   },
   "outputs": [],
   "source": [
    "class Reshape(nn.Module):\n",
    "    def __init__(self, *shape):\n",
    "        super().__init__()\n",
    "        self.shape = shape\n",
    "        \n",
    "    def forward(self, x):\n",
    "        return x.reshape(*self.shape)"
   ]
  },
  {
   "cell_type": "code",
   "execution_count": 10,
   "metadata": {
    "executionInfo": {
     "elapsed": 1290,
     "status": "ok",
     "timestamp": 1603350127954,
     "user": {
      "displayName": "Aleksandr Artemenkov",
      "photoUrl": "",
      "userId": "04068494744884930486"
     },
     "user_tz": -180
    },
    "id": "z3nOnPa5HJtB"
   },
   "outputs": [],
   "source": [
    "class ImageEncoder(nn.Module):\n",
    "    def __init__(self, z_dim: int):\n",
    "        super().__init__()\n",
    "        self.z_dim = z_dim\n",
    "        self.model = nn.Sequential(\n",
    "            \n",
    "                nn.BatchNorm2d(1),\n",
    "                nn.Conv2d(1, 16, 5, 2, 2), # 28 -> 14 \n",
    "                nn.Softplus(),\n",
    "                nn.BatchNorm2d(16),\n",
    "            \n",
    "                nn.Conv2d(16, 32, 5, 2, 2), # 14 -> 7\n",
    "                nn.Softplus(),\n",
    "            \n",
    "                nn.BatchNorm2d(32),\n",
    "                nn.Conv2d(32, 32, 5, 2, 2), # 7 -> 4\n",
    "            \n",
    "                nn.BatchNorm2d(32),\n",
    "                Reshape(-1, 32*4*4),\n",
    "                nn.Linear(32*4*4, 450),\n",
    "                nn.Softplus(),\n",
    "                nn.BatchNorm1d(450),\n",
    "                nn.Linear(450, 2*z_dim)\n",
    "            )\n",
    "    \n",
    "    def forward(self, x: torch.Tensor) -> torch.Tensor:\n",
    "        out = self.model(x)\n",
    "        loc, log_scale = out[:, :self.z_dim], out[:, self.z_dim:]\n",
    "        return loc, log_scale"
   ]
  },
  {
   "cell_type": "code",
   "execution_count": 11,
   "metadata": {
    "executionInfo": {
     "elapsed": 842,
     "status": "ok",
     "timestamp": 1603350127956,
     "user": {
      "displayName": "Aleksandr Artemenkov",
      "photoUrl": "",
      "userId": "04068494744884930486"
     },
     "user_tz": -180
    },
    "id": "DQzNJK8gHJtD"
   },
   "outputs": [],
   "source": [
    "class ImageDecoder(nn.Module):\n",
    "    def __init__(self, z_dim: int):\n",
    "        super().__init__()\n",
    "        self.z_dim = z_dim\n",
    "        self.model = nn.Sequential(\n",
    "                nn.BatchNorm1d(z_dim),\n",
    "                nn.Linear(z_dim, 450),\n",
    "                nn.Softplus(),\n",
    "                nn.BatchNorm1d(450),\n",
    "                nn.Linear(450, 32*4*4),\n",
    "                nn.Softplus(),\n",
    "                Reshape(-1, 32, 4, 4),\n",
    "            \n",
    "                nn.BatchNorm2d(32),\n",
    "                nn.Conv2d(32, 32, 5, 1, 2), \n",
    "                nn.UpsamplingNearest2d(size=7), # 4 -> 7\n",
    "                nn.Softplus(),\n",
    "            \n",
    "                nn.BatchNorm2d(32),\n",
    "                nn.Conv2d(32, 16, 5, 1, 2),\n",
    "                nn.UpsamplingNearest2d(size=14), # 7 -> 14\n",
    "                nn.Softplus(),\n",
    "            \n",
    "                nn.BatchNorm2d(16),\n",
    "                nn.Conv2d(16, 16, 5, 1, 2),\n",
    "                nn.UpsamplingNearest2d(size=28), # 14 -> 28\n",
    "                nn.Softplus(),\n",
    "\n",
    "                nn.Conv2d(16, 1, 5, 1, 2),\n",
    "                nn.Sigmoid()\n",
    "            )\n",
    "        \n",
    "    def forward(self, x: torch.Tensor) -> torch.Tensor:\n",
    "        return self.model(x)"
   ]
  },
  {
   "cell_type": "code",
   "execution_count": 15,
   "metadata": {
    "colab": {
     "base_uri": "https://localhost:8080/",
     "height": 184
    },
    "executionInfo": {
     "elapsed": 628,
     "status": "error",
     "timestamp": 1603350160657,
     "user": {
      "displayName": "Aleksandr Artemenkov",
      "photoUrl": "",
      "userId": "04068494744884930486"
     },
     "user_tz": -180
    },
    "id": "0ckIH5CbHJtF",
    "outputId": "0a881b28-38d3-44b2-b24c-4168cec0e4a7"
   },
   "outputs": [
    {
     "ename": "NameError",
     "evalue": "ignored",
     "output_type": "error",
     "traceback": [
      "\u001b[0;31m---------------------------------------------------------------------------\u001b[0m",
      "\u001b[0;31mNameError\u001b[0m                                 Traceback (most recent call last)",
      "\u001b[0;32m<ipython-input-15-5c1da764e7af>\u001b[0m in \u001b[0;36m<module>\u001b[0;34m()\u001b[0m\n\u001b[0;32m----> 1\u001b[0;31m \u001b[0mencoder\u001b[0m \u001b[0;34m=\u001b[0m \u001b[0mImageEncoder\u001b[0m\u001b[0;34m(\u001b[0m\u001b[0mz_dim\u001b[0m\u001b[0;34m=\u001b[0m\u001b[0;36m64\u001b[0m\u001b[0;34m)\u001b[0m\u001b[0;34m.\u001b[0m\u001b[0mto\u001b[0m\u001b[0;34m(\u001b[0m\u001b[0mDEVICE\u001b[0m\u001b[0;34m)\u001b[0m\u001b[0;34m\u001b[0m\u001b[0;34m\u001b[0m\u001b[0m\n\u001b[0m\u001b[1;32m      2\u001b[0m \u001b[0msummary\u001b[0m\u001b[0;34m(\u001b[0m\u001b[0mencoder\u001b[0m\u001b[0;34m,\u001b[0m \u001b[0;34m(\u001b[0m\u001b[0;36m1\u001b[0m\u001b[0;34m,\u001b[0m \u001b[0;36m28\u001b[0m\u001b[0;34m,\u001b[0m \u001b[0;36m28\u001b[0m\u001b[0;34m)\u001b[0m\u001b[0;34m)\u001b[0m\u001b[0;34m\u001b[0m\u001b[0;34m\u001b[0m\u001b[0m\n",
      "\u001b[0;31mNameError\u001b[0m: name 'DEVICE' is not defined"
     ]
    }
   ],
   "source": [
    "encoder = ImageEncoder(z_dim=64)\n",
    "summary(encoder, (1, 28, 28))"
   ]
  },
  {
   "cell_type": "code",
   "execution_count": null,
   "metadata": {
    "executionInfo": {
     "elapsed": 10950,
     "status": "aborted",
     "timestamp": 1603350138459,
     "user": {
      "displayName": "Aleksandr Artemenkov",
      "photoUrl": "",
      "userId": "04068494744884930486"
     },
     "user_tz": -180
    },
    "id": "t2g6-IFLHJtI"
   },
   "outputs": [],
   "source": [
    "decoder = ImageDecoder(z_dim=64)\n",
    "summary(decoder, (64,))"
   ]
  },
  {
   "cell_type": "code",
   "execution_count": 16,
   "metadata": {
    "colab": {
     "base_uri": "https://localhost:8080/",
     "height": 34
    },
    "executionInfo": {
     "elapsed": 661,
     "status": "ok",
     "timestamp": 1603350211986,
     "user": {
      "displayName": "Aleksandr Artemenkov",
      "photoUrl": "",
      "userId": "04068494744884930486"
     },
     "user_tz": -180
    },
    "id": "FAA5PwtjHJtL",
    "outputId": "de53b033-2f3c-4c2c-b860-1180e3330ec1"
   },
   "outputs": [
    {
     "name": "stdout",
     "output_type": "stream",
     "text": [
      "Device: cuda\n"
     ]
    }
   ],
   "source": [
    "N_WORKERS = 4 if os.name != 'nt' else 0\n",
    "if torch.cuda.is_available():\n",
    "    DEVICE = torch.device('cuda')\n",
    "    IS_CUDA = True\n",
    "else:\n",
    "    DEVICE = torch.device('cpu')\n",
    "    IS_CUDA = False\n",
    "    \n",
    "print(\"Device:\", DEVICE)"
   ]
  },
  {
   "cell_type": "code",
   "execution_count": 17,
   "metadata": {
    "executionInfo": {
     "elapsed": 559,
     "status": "ok",
     "timestamp": 1603350212298,
     "user": {
      "displayName": "Aleksandr Artemenkov",
      "photoUrl": "",
      "userId": "04068494744884930486"
     },
     "user_tz": -180
    },
    "id": "iu1zBcYCHJtP"
   },
   "outputs": [],
   "source": [
    "BATCH_SIZE = 256"
   ]
  },
  {
   "cell_type": "code",
   "execution_count": 79,
   "metadata": {
    "colab": {
     "base_uri": "https://localhost:8080/",
     "height": 34
    },
    "executionInfo": {
     "elapsed": 1135,
     "status": "ok",
     "timestamp": 1603351416134,
     "user": {
      "displayName": "Aleksandr Artemenkov",
      "photoUrl": "",
      "userId": "04068494744884930486"
     },
     "user_tz": -180
    },
    "id": "Q6ir49oqHJtS",
    "outputId": "9e28b848-5c61-489a-c27f-8c0e7242d90b"
   },
   "outputs": [
    {
     "name": "stdout",
     "output_type": "stream",
     "text": [
      "Files already downloaded and verified\n"
     ]
    }
   ],
   "source": [
    "transform = transforms.Compose([\n",
    "    transforms.ToTensor(),\n",
    "    # lambda x: x.round()\n",
    "])\n",
    "\n",
    "# data = MNIST('data/mnist', download=True, transform=transform, train=False)\n",
    "data = CIFAR10('data/cifar', download=True, transform=transform, train=False)\n",
    "\n",
    "data_loader = DataLoader(data, #Subset(data, torch.arange(100)), \n",
    "                         batch_size=BATCH_SIZE, shuffle=True,\n",
    "                         pin_memory=IS_CUDA)"
   ]
  },
  {
   "cell_type": "code",
   "execution_count": 84,
   "metadata": {
    "colab": {
     "base_uri": "https://localhost:8080/",
     "height": 284
    },
    "executionInfo": {
     "elapsed": 932,
     "status": "ok",
     "timestamp": 1603351440968,
     "user": {
      "displayName": "Aleksandr Artemenkov",
      "photoUrl": "",
      "userId": "04068494744884930486"
     },
     "user_tz": -180
    },
    "id": "zUD0ZzrpLSIM",
    "outputId": "4cc3ad03-4f48-450e-a2f7-d07a20bb8f15"
   },
   "outputs": [
    {
     "data": {
      "text/plain": [
       "<matplotlib.image.AxesImage at 0x7fa4ea28d828>"
      ]
     },
     "execution_count": 84,
     "metadata": {
      "tags": []
     },
     "output_type": "execute_result"
    },
    {
     "data": {
      "image/png": "[encoded data removed]",
      "text/plain": [
       "<Figure size 432x288 with 1 Axes>"
      ]
     },
     "metadata": {
      "needs_background": "light",
      "tags": []
     },
     "output_type": "display_data"
    }
   ],
   "source": [
    "plt.imshow(data[90][0].permute(1, 2, 0), interpolation='bilinear')"
   ]
  },
  {
   "cell_type": "code",
   "execution_count": 43,
   "metadata": {
    "executionInfo": {
     "elapsed": 559,
     "status": "ok",
     "timestamp": 1603350548589,
     "user": {
      "displayName": "Aleksandr Artemenkov",
      "photoUrl": "",
      "userId": "04068494744884930486"
     },
     "user_tz": -180
    },
    "id": "hxrA5mu5HJtU"
   },
   "outputs": [],
   "source": [
    "n_epochs = 5\n",
    "z_dim = 64\n",
    "K = 15\n",
    "\n",
    "encoder = ImageEncoder(z_dim).train(True).to(DEVICE)\n",
    "decoder = ImageDecoder(z_dim).train(True).to(DEVICE)\n",
    "sampler = HIS(dim=z_dim, K=K, verbose=False).to(DEVICE)\n",
    "\n",
    "encoder.to(DEVICE)\n",
    "decoder.to(DEVICE)\n",
    "sampler.to(DEVICE)\n",
    "\n",
    "optimizer = Adam([*encoder.parameters(), *decoder.parameters(), *sampler.parameters()], lr=1e-3)"
   ]
  },
  {
   "cell_type": "code",
   "execution_count": 44,
   "metadata": {
    "colab": {
     "base_uri": "https://localhost:8080/",
     "height": 210
    },
    "executionInfo": {
     "elapsed": 73486,
     "status": "ok",
     "timestamp": 1603350622160,
     "user": {
      "displayName": "Aleksandr Artemenkov",
      "photoUrl": "",
      "userId": "04068494744884930486"
     },
     "user_tz": -180
    },
    "id": "ptrNVH0_HJtW",
    "outputId": "ff2d1f76-3161-4324-9551-b934be6b716b"
   },
   "outputs": [
    {
     "name": "stdout",
     "output_type": "stream",
     "text": [
      "\n",
      "#### Epoch 1 ####\n",
      "[40/40] 105.4254\t\t\t\n",
      "#### Epoch 2 ####\n",
      "[40/40] 91.9322\t\t\t\n",
      "#### Epoch 3 ####\n",
      "[40/40] 90.9599\t\t\t\n",
      "#### Epoch 4 ####\n",
      "[40/40] 71.3661\t\t\t\n",
      "#### Epoch 5 ####\n",
      "[40/40] 73.3327\t\t\t"
     ]
    }
   ],
   "source": [
    "encoder.train(True)\n",
    "decoder.train(True)\n",
    "\n",
    "for epoch in range(n_epochs):\n",
    "    print(f\"\\n#### Epoch {epoch+1} ####\")\n",
    "    for i, (X, _) in enumerate(data_loader):\n",
    "        X = X.to(DEVICE)\n",
    "        prior = EncoderPrior(X, encoder)\n",
    "        posterior = DecoderPosterior(X, decoder)\n",
    "        \n",
    "        loss = -sampler.elbo(prior, posterior)\n",
    "        loss /= X.shape[0]\n",
    "        \n",
    "        optimizer.zero_grad()\n",
    "        loss.backward()\n",
    "        optimizer.step()\n",
    "        \n",
    "        print(f\"\\r[{i+1}/{len(data_loader)}] {loss.item():.4f}\\t\\t\\t\",end=\"\")"
   ]
  },
  {
   "cell_type": "code",
   "execution_count": 51,
   "metadata": {
    "colab": {
     "base_uri": "https://localhost:8080/",
     "height": 240
    },
    "executionInfo": {
     "elapsed": 935,
     "status": "ok",
     "timestamp": 1603350672157,
     "user": {
      "displayName": "Aleksandr Artemenkov",
      "photoUrl": "",
      "userId": "04068494744884930486"
     },
     "user_tz": -180
    },
    "id": "kNkz-61HHJtZ",
    "outputId": "0deeb80a-b3c7-411b-c4bd-96b056f0fe3f"
   },
   "outputs": [
    {
     "data": {
      "text/plain": [
       "<matplotlib.image.AxesImage at 0x7fa4fb30e668>"
      ]
     },
     "execution_count": 51,
     "metadata": {
      "tags": []
     },
     "output_type": "execute_result"
    },
    {
     "data": {
      "image/png": "[encoded data removed]",
      "text/plain": [
       "<Figure size 432x288 with 1 Axes>"
      ]
     },
     "metadata": {
      "needs_background": "light",
      "tags": []
     },
     "output_type": "display_data"
    }
   ],
   "source": [
    "from torchvision.utils import make_grid\n",
    "idx = 3\n",
    "\n",
    "encoder.train(False)\n",
    "decoder.train(False)\n",
    "\n",
    "x = data[idx][0][None, ...]\n",
    "z, _ = encoder(x.to(DEVICE))\n",
    "x_rec = decoder(z)\n",
    "plt.imshow(make_grid(torch.cat([x.cpu(), x_rec.cpu()])).permute(1, 2, 0).detach().numpy(), cmap=\"Greys\")"
   ]
  },
  {
   "cell_type": "code",
   "execution_count": 62,
   "metadata": {
    "colab": {
     "base_uri": "https://localhost:8080/",
     "height": 466
    },
    "executionInfo": {
     "elapsed": 1129,
     "status": "ok",
     "timestamp": 1603350913561,
     "user": {
      "displayName": "Aleksandr Artemenkov",
      "photoUrl": "",
      "userId": "04068494744884930486"
     },
     "user_tz": -180
    },
    "id": "trkQhCI6HJtb",
    "outputId": "63f3ebac-18a9-49c4-8eb1-7c6d189c8878"
   },
   "outputs": [
    {
     "data": {
      "image/png": "[encoded data removed]",
      "text/plain": [
       "<Figure size 864x576 with 1 Axes>"
      ]
     },
     "metadata": {
      "needs_background": "light",
      "tags": []
     },
     "output_type": "display_data"
    }
   ],
   "source": [
    "fig, ax = plt.subplots(1, 1, figsize=(12, 8))\n",
    "\n",
    "n = 6\n",
    "z = torch.randn(n**2, z_dim)\n",
    "x_rec = decoder(z.to(DEVICE))\n",
    "ax.imshow(make_grid(x_rec.cpu(), nrow=n).permute(1, 2, 0).detach().numpy(), cmap=\"Greys\")\n",
    "ax.axis(\"off\")\n",
    "\n",
    "plt.show()"
   ]
  },
  {
   "cell_type": "code",
   "execution_count": null,
   "metadata": {
    "id": "05-SzMbNJjar"
   },
   "outputs": [],
   "source": []
  }
 ],
 "metadata": {
  "accelerator": "GPU",
  "colab": {
   "collapsed_sections": [],
   "name": "mnist.ipynb",
   "provenance": []
  },
  "kernelspec": {
   "display_name": "Python 3",
   "language": "python",
   "name": "python3"
  },
  "language_info": {
   "codemirror_mode": {
    "name": "ipython",
    "version": 3
   },
   "file_extension": ".py",
   "mimetype": "text/x-python",
   "name": "python",
   "nbconvert_exporter": "python",
   "pygments_lexer": "ipython3",
   "version": "3.8.6"
  }
 },
 "nbformat": 4,
 "nbformat_minor": 1
}
